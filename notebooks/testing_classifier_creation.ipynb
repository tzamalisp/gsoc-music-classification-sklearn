{
 "cells": [
  {
   "cell_type": "code",
   "execution_count": 1,
   "metadata": {
    "ExecuteTime": {
     "end_time": "2020-07-16T18:16:25.812470Z",
     "start_time": "2020-07-16T18:16:25.809880Z"
    }
   },
   "outputs": [],
   "source": [
    "import os\n",
    "import json"
   ]
  },
  {
   "cell_type": "code",
   "execution_count": 2,
   "metadata": {
    "ExecuteTime": {
     "end_time": "2020-07-16T18:16:25.819484Z",
     "start_time": "2020-07-16T18:16:25.815644Z"
    }
   },
   "outputs": [],
   "source": [
    "# load best model\n",
    "best_model_name = \"best_model_{}.json\".format(\"danceability\")\n",
    "with open(os.path.join(os.getcwd(), \"exports_danceability\", best_model_name)) as best_model_file:\n",
    "    best_model = json.load(best_model_file)"
   ]
  },
  {
   "cell_type": "code",
   "execution_count": 3,
   "metadata": {
    "ExecuteTime": {
     "end_time": "2020-07-16T18:16:25.831340Z",
     "start_time": "2020-07-16T18:16:25.821954Z"
    }
   },
   "outputs": [
    {
     "data": {
      "text/plain": [
       "{'score': 0.9466666666666667,\n",
       " 'params': {'C': 128,\n",
       "  'class_weight': None,\n",
       "  'gamma': 0.001953125,\n",
       "  'kernel': 'rbf'},\n",
       " 'n_fold': 5,\n",
       " 'preprocessing': 'normalized'}"
      ]
     },
     "execution_count": 3,
     "metadata": {},
     "output_type": "execute_result"
    }
   ],
   "source": [
    "best_model"
   ]
  },
  {
   "cell_type": "code",
   "execution_count": 4,
   "metadata": {
    "ExecuteTime": {
     "end_time": "2020-07-16T18:16:25.838765Z",
     "start_time": "2020-07-16T18:16:25.833642Z"
    }
   },
   "outputs": [
    {
     "data": {
      "text/plain": [
       "{'C': 128, 'class_weight': None, 'gamma': 0.001953125, 'kernel': 'rbf'}"
      ]
     },
     "execution_count": 4,
     "metadata": {},
     "output_type": "execute_result"
    }
   ],
   "source": [
    "best_model[\"params\"]"
   ]
  },
  {
   "cell_type": "code",
   "execution_count": 5,
   "metadata": {
    "ExecuteTime": {
     "end_time": "2020-07-16T18:16:26.388677Z",
     "start_time": "2020-07-16T18:16:25.840552Z"
    }
   },
   "outputs": [],
   "source": [
    "from classification.classifierBASIC import TrainClassifier"
   ]
  },
  {
   "cell_type": "code",
   "execution_count": 6,
   "metadata": {
    "ExecuteTime": {
     "end_time": "2020-07-16T18:16:26.394479Z",
     "start_time": "2020-07-16T18:16:26.391148Z"
    }
   },
   "outputs": [],
   "source": [
    "clf_model = TrainClassifier(classifier=\"svm\", params=best_model[\"params\"])"
   ]
  },
  {
   "cell_type": "code",
   "execution_count": 7,
   "metadata": {
    "ExecuteTime": {
     "end_time": "2020-07-16T18:16:26.401155Z",
     "start_time": "2020-07-16T18:16:26.398549Z"
    }
   },
   "outputs": [],
   "source": [
    "params = best_model[\"params\"]"
   ]
  },
  {
   "cell_type": "code",
   "execution_count": 8,
   "metadata": {
    "ExecuteTime": {
     "end_time": "2020-07-16T18:16:26.407234Z",
     "start_time": "2020-07-16T18:16:26.403779Z"
    }
   },
   "outputs": [],
   "source": [
    "param_C = params[\"C\"]\n",
    "param_gamma = params[\"gamma\"]\n",
    "param_class_weight = params[\"class_weight\"]\n",
    "param_kernel = params[\"kernel\"]"
   ]
  },
  {
   "cell_type": "code",
   "execution_count": 9,
   "metadata": {
    "ExecuteTime": {
     "end_time": "2020-07-16T18:16:26.412395Z",
     "start_time": "2020-07-16T18:16:26.409949Z"
    }
   },
   "outputs": [],
   "source": [
    "from sklearn.svm import SVC"
   ]
  },
  {
   "cell_type": "code",
   "execution_count": 10,
   "metadata": {
    "ExecuteTime": {
     "end_time": "2020-07-16T18:16:26.416914Z",
     "start_time": "2020-07-16T18:16:26.414123Z"
    }
   },
   "outputs": [],
   "source": [
    "classifier = \"svm\""
   ]
  },
  {
   "cell_type": "code",
   "execution_count": 11,
   "metadata": {
    "ExecuteTime": {
     "end_time": "2020-07-16T18:16:26.422560Z",
     "start_time": "2020-07-16T18:16:26.419118Z"
    }
   },
   "outputs": [],
   "source": [
    "if classifier == \"svm\":\n",
    "    model = SVC(C=param_C, gamma=param_gamma, kernel=param_kernel, class_weight=param_class_weight)\n",
    "else:\n",
    "    model = None"
   ]
  },
  {
   "cell_type": "code",
   "execution_count": 12,
   "metadata": {
    "ExecuteTime": {
     "end_time": "2020-07-16T18:16:26.430794Z",
     "start_time": "2020-07-16T18:16:26.424815Z"
    }
   },
   "outputs": [
    {
     "data": {
      "text/plain": [
       "SVC(C=128, gamma=0.001953125)"
      ]
     },
     "execution_count": 12,
     "metadata": {},
     "output_type": "execute_result"
    }
   ],
   "source": [
    "model"
   ]
  },
  {
   "cell_type": "code",
   "execution_count": 13,
   "metadata": {
    "ExecuteTime": {
     "end_time": "2020-07-16T18:16:26.438901Z",
     "start_time": "2020-07-16T18:16:26.433019Z"
    }
   },
   "outputs": [],
   "source": [
    "class TrainClassifier:\n",
    "    def __init__(self, classifier, params):\n",
    "        self.classifier = classifier\n",
    "        self.params = params\n",
    "\n",
    "    def model(self):\n",
    "        validClassifiers = ['NN', 'svm']\n",
    "        if self.classifier not in validClassifiers:\n",
    "            raise ValueError('The classifier name must be valid.')\n",
    "            \n",
    "        if self.classifier == \"svm\":\n",
    "            param_C = self.params[\"C\"]\n",
    "            param_gamma = self.params[\"gamma\"]\n",
    "            param_class_weight = self.params[\"class_weight\"]\n",
    "            param_kernel = self.params[\"kernel\"]\n",
    "            model = SVC(C=param_C, gamma=param_gamma, kernel=param_kernel, class_weight=param_class_weight)\n",
    "            return model\n",
    "        else:\n",
    "            return None"
   ]
  },
  {
   "cell_type": "code",
   "execution_count": 14,
   "metadata": {
    "ExecuteTime": {
     "end_time": "2020-07-16T18:16:26.444073Z",
     "start_time": "2020-07-16T18:16:26.441138Z"
    }
   },
   "outputs": [],
   "source": [
    "clf_obj = TrainClassifier(classifier, params).model()"
   ]
  },
  {
   "cell_type": "code",
   "execution_count": null,
   "metadata": {
    "ExecuteTime": {
     "end_time": "2020-07-16T18:15:42.549576Z",
     "start_time": "2020-07-16T18:15:42.545764Z"
    }
   },
   "outputs": [],
   "source": []
  },
  {
   "cell_type": "code",
   "execution_count": 15,
   "metadata": {
    "ExecuteTime": {
     "end_time": "2020-07-16T18:16:26.452180Z",
     "start_time": "2020-07-16T18:16:26.447285Z"
    }
   },
   "outputs": [
    {
     "data": {
      "text/plain": [
       "SVC(C=128, gamma=0.001953125)"
      ]
     },
     "execution_count": 15,
     "metadata": {},
     "output_type": "execute_result"
    }
   ],
   "source": [
    "model"
   ]
  },
  {
   "cell_type": "code",
   "execution_count": null,
   "metadata": {},
   "outputs": [],
   "source": []
  }
 ],
 "metadata": {
  "kernelspec": {
   "display_name": "Python 3",
   "language": "python",
   "name": "python3"
  },
  "language_info": {
   "codemirror_mode": {
    "name": "ipython",
    "version": 3
   },
   "file_extension": ".py",
   "mimetype": "text/x-python",
   "name": "python",
   "nbconvert_exporter": "python",
   "pygments_lexer": "ipython3",
   "version": "3.7.6"
  },
  "toc": {
   "base_numbering": 1,
   "nav_menu": {},
   "number_sections": true,
   "sideBar": true,
   "skip_h1_title": false,
   "title_cell": "Table of Contents",
   "title_sidebar": "Contents",
   "toc_cell": false,
   "toc_position": {},
   "toc_section_display": true,
   "toc_window_display": false
  }
 },
 "nbformat": 4,
 "nbformat_minor": 4
}
