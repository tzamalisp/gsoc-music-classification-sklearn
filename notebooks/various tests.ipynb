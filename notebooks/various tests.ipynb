{
 "cells": [
  {
   "cell_type": "markdown",
   "metadata": {},
   "source": [
    "## Random"
   ]
  },
  {
   "cell_type": "code",
   "execution_count": 1,
   "metadata": {
    "ExecuteTime": {
     "end_time": "2020-06-11T09:45:13.027069Z",
     "start_time": "2020-06-11T09:45:10.656836Z"
    }
   },
   "outputs": [],
   "source": [
    "import random\n",
    "import time\n",
    "import numpy as np"
   ]
  },
  {
   "cell_type": "code",
   "execution_count": 2,
   "metadata": {
    "ExecuteTime": {
     "end_time": "2020-06-11T09:45:13.032057Z",
     "start_time": "2020-06-11T09:45:13.029328Z"
    }
   },
   "outputs": [],
   "source": [
    "seed = 1"
   ]
  },
  {
   "cell_type": "code",
   "execution_count": 3,
   "metadata": {
    "ExecuteTime": {
     "end_time": "2020-06-11T09:45:13.044265Z",
     "start_time": "2020-06-11T09:45:13.035043Z"
    }
   },
   "outputs": [
    {
     "data": {
      "text/plain": [
       "1591868713.036053"
      ]
     },
     "execution_count": 3,
     "metadata": {},
     "output_type": "execute_result"
    }
   ],
   "source": [
    "time.time()"
   ]
  },
  {
   "cell_type": "code",
   "execution_count": 4,
   "metadata": {
    "ExecuteTime": {
     "end_time": "2020-06-11T09:45:13.050858Z",
     "start_time": "2020-06-11T09:45:13.047180Z"
    }
   },
   "outputs": [
    {
     "data": {
      "text/plain": [
       "float"
      ]
     },
     "execution_count": 4,
     "metadata": {},
     "output_type": "execute_result"
    }
   ],
   "source": [
    "type(time.time())"
   ]
  },
  {
   "cell_type": "code",
   "execution_count": 5,
   "metadata": {
    "ExecuteTime": {
     "end_time": "2020-06-11T09:45:13.056739Z",
     "start_time": "2020-06-11T09:45:13.052630Z"
    }
   },
   "outputs": [
    {
     "data": {
      "text/plain": [
       "1591868713"
      ]
     },
     "execution_count": 5,
     "metadata": {},
     "output_type": "execute_result"
    }
   ],
   "source": [
    "int(time.time())"
   ]
  },
  {
   "cell_type": "code",
   "execution_count": 6,
   "metadata": {
    "ExecuteTime": {
     "end_time": "2020-06-11T09:45:13.065486Z",
     "start_time": "2020-06-11T09:45:13.058586Z"
    }
   },
   "outputs": [
    {
     "data": {
      "text/plain": [
       "int"
      ]
     },
     "execution_count": 6,
     "metadata": {},
     "output_type": "execute_result"
    }
   ],
   "source": [
    "type(int(time.time()))"
   ]
  },
  {
   "cell_type": "code",
   "execution_count": 7,
   "metadata": {
    "ExecuteTime": {
     "end_time": "2020-06-11T09:45:13.070264Z",
     "start_time": "2020-06-11T09:45:13.067519Z"
    }
   },
   "outputs": [],
   "source": [
    "# if not seed specified, get the current clock value\n",
    "if seed is None:\n",
    "    import time\n",
    "    seed = time.time()"
   ]
  },
  {
   "cell_type": "code",
   "execution_count": 8,
   "metadata": {
    "ExecuteTime": {
     "end_time": "2020-06-11T09:45:13.078446Z",
     "start_time": "2020-06-11T09:45:13.074781Z"
    }
   },
   "outputs": [
    {
     "data": {
      "text/plain": [
       "1"
      ]
     },
     "execution_count": 8,
     "metadata": {},
     "output_type": "execute_result"
    }
   ],
   "source": [
    "seed"
   ]
  },
  {
   "cell_type": "code",
   "execution_count": 9,
   "metadata": {
    "ExecuteTime": {
     "end_time": "2020-06-11T09:45:13.084976Z",
     "start_time": "2020-06-11T09:45:13.082028Z"
    }
   },
   "outputs": [],
   "source": [
    "random.seed(a=seed)"
   ]
  },
  {
   "cell_type": "code",
   "execution_count": 10,
   "metadata": {
    "ExecuteTime": {
     "end_time": "2020-06-11T09:45:13.092814Z",
     "start_time": "2020-06-11T09:45:13.088904Z"
    }
   },
   "outputs": [],
   "source": [
    "list_test = []\n",
    "i = 0\n",
    "while i < 100:\n",
    "    list_test.append(i)\n",
    "    i += 1"
   ]
  },
  {
   "cell_type": "code",
   "execution_count": null,
   "metadata": {},
   "outputs": [],
   "source": []
  },
  {
   "cell_type": "code",
   "execution_count": 11,
   "metadata": {
    "ExecuteTime": {
     "end_time": "2020-06-11T09:45:13.100689Z",
     "start_time": "2020-06-11T09:45:13.096061Z"
    }
   },
   "outputs": [
    {
     "data": {
      "text/plain": [
       "[0, 1, 2, 3, 4]"
      ]
     },
     "execution_count": 11,
     "metadata": {},
     "output_type": "execute_result"
    }
   ],
   "source": [
    "list_test[:5]"
   ]
  },
  {
   "cell_type": "code",
   "execution_count": 12,
   "metadata": {
    "ExecuteTime": {
     "end_time": "2020-06-11T09:45:13.105900Z",
     "start_time": "2020-06-11T09:45:13.102811Z"
    }
   },
   "outputs": [],
   "source": [
    "random.shuffle(list_test)"
   ]
  },
  {
   "cell_type": "code",
   "execution_count": 13,
   "metadata": {
    "ExecuteTime": {
     "end_time": "2020-06-11T09:45:13.111726Z",
     "start_time": "2020-06-11T09:45:13.107838Z"
    }
   },
   "outputs": [
    {
     "data": {
      "text/plain": [
       "[53, 37, 65, 51, 4]"
      ]
     },
     "execution_count": 13,
     "metadata": {},
     "output_type": "execute_result"
    }
   ],
   "source": [
    "list_test[:5]"
   ]
  },
  {
   "cell_type": "code",
   "execution_count": null,
   "metadata": {},
   "outputs": [],
   "source": []
  },
  {
   "cell_type": "code",
   "execution_count": 14,
   "metadata": {
    "ExecuteTime": {
     "end_time": "2020-06-11T09:45:13.117065Z",
     "start_time": "2020-06-11T09:45:13.113855Z"
    }
   },
   "outputs": [],
   "source": [
    "list_test_2 = []\n",
    "i = 0\n",
    "while i < 100:\n",
    "    list_test_2.append(i)\n",
    "    i += 1"
   ]
  },
  {
   "cell_type": "code",
   "execution_count": 15,
   "metadata": {
    "ExecuteTime": {
     "end_time": "2020-06-11T09:45:13.123045Z",
     "start_time": "2020-06-11T09:45:13.119378Z"
    }
   },
   "outputs": [
    {
     "data": {
      "text/plain": [
       "[0, 1, 2, 3, 4]"
      ]
     },
     "execution_count": 15,
     "metadata": {},
     "output_type": "execute_result"
    }
   ],
   "source": [
    "list_test_2[:5]"
   ]
  },
  {
   "cell_type": "code",
   "execution_count": 16,
   "metadata": {
    "ExecuteTime": {
     "end_time": "2020-06-11T09:45:13.128912Z",
     "start_time": "2020-06-11T09:45:13.125439Z"
    }
   },
   "outputs": [
    {
     "data": {
      "text/plain": [
       "1"
      ]
     },
     "execution_count": 16,
     "metadata": {},
     "output_type": "execute_result"
    }
   ],
   "source": [
    "seed"
   ]
  },
  {
   "cell_type": "code",
   "execution_count": 17,
   "metadata": {
    "ExecuteTime": {
     "end_time": "2020-06-11T09:45:13.133963Z",
     "start_time": "2020-06-11T09:45:13.130902Z"
    }
   },
   "outputs": [],
   "source": [
    "np.random.seed(seed)"
   ]
  },
  {
   "cell_type": "code",
   "execution_count": 18,
   "metadata": {
    "ExecuteTime": {
     "end_time": "2020-06-11T09:45:13.141994Z",
     "start_time": "2020-06-11T09:45:13.137719Z"
    }
   },
   "outputs": [],
   "source": [
    "np.random.shuffle(list_test_2)"
   ]
  },
  {
   "cell_type": "code",
   "execution_count": 19,
   "metadata": {
    "ExecuteTime": {
     "end_time": "2020-06-11T09:45:13.148148Z",
     "start_time": "2020-06-11T09:45:13.144160Z"
    }
   },
   "outputs": [
    {
     "data": {
      "text/plain": [
       "[80, 84, 33, 81, 93]"
      ]
     },
     "execution_count": 19,
     "metadata": {},
     "output_type": "execute_result"
    }
   ],
   "source": [
    "list_test_2[:5]"
   ]
  },
  {
   "cell_type": "code",
   "execution_count": null,
   "metadata": {},
   "outputs": [],
   "source": []
  },
  {
   "cell_type": "markdown",
   "metadata": {},
   "source": [
    "## Datetime"
   ]
  },
  {
   "cell_type": "code",
   "execution_count": 20,
   "metadata": {
    "ExecuteTime": {
     "end_time": "2020-06-11T09:45:13.152714Z",
     "start_time": "2020-06-11T09:45:13.149884Z"
    }
   },
   "outputs": [],
   "source": [
    "from datetime import datetime"
   ]
  },
  {
   "cell_type": "code",
   "execution_count": 21,
   "metadata": {
    "ExecuteTime": {
     "end_time": "2020-06-11T09:45:13.158219Z",
     "start_time": "2020-06-11T09:45:13.155282Z"
    }
   },
   "outputs": [],
   "source": [
    "now = datetime.now()"
   ]
  },
  {
   "cell_type": "code",
   "execution_count": 22,
   "metadata": {
    "ExecuteTime": {
     "end_time": "2020-06-11T09:45:13.163348Z",
     "start_time": "2020-06-11T09:45:13.160042Z"
    }
   },
   "outputs": [],
   "source": [
    "datetime_str = now.strftime(\"%Y-%m-%d\")"
   ]
  },
  {
   "cell_type": "code",
   "execution_count": 23,
   "metadata": {
    "ExecuteTime": {
     "end_time": "2020-06-11T09:45:13.172313Z",
     "start_time": "2020-06-11T09:45:13.169191Z"
    }
   },
   "outputs": [
    {
     "data": {
      "text/plain": [
       "'2020-06-11'"
      ]
     },
     "execution_count": 23,
     "metadata": {},
     "output_type": "execute_result"
    }
   ],
   "source": [
    "datetime_str"
   ]
  },
  {
   "cell_type": "code",
   "execution_count": null,
   "metadata": {},
   "outputs": [],
   "source": []
  },
  {
   "cell_type": "code",
   "execution_count": null,
   "metadata": {},
   "outputs": [],
   "source": []
  },
  {
   "cell_type": "markdown",
   "metadata": {},
   "source": [
    "## Yaml project loading"
   ]
  },
  {
   "cell_type": "code",
   "execution_count": 1,
   "metadata": {
    "ExecuteTime": {
     "end_time": "2020-07-03T14:47:11.662013Z",
     "start_time": "2020-07-03T14:47:11.643468Z"
    }
   },
   "outputs": [],
   "source": [
    "import yaml\n",
    "import os"
   ]
  },
  {
   "cell_type": "code",
   "execution_count": 2,
   "metadata": {
    "ExecuteTime": {
     "end_time": "2020-07-03T14:49:40.904520Z",
     "start_time": "2020-07-03T14:49:40.900468Z"
    }
   },
   "outputs": [],
   "source": [
    "path_config = os.path.join(os.getcwd(), \"project_danceability.yaml\")"
   ]
  },
  {
   "cell_type": "code",
   "execution_count": 3,
   "metadata": {
    "ExecuteTime": {
     "end_time": "2020-07-03T14:49:42.139355Z",
     "start_time": "2020-07-03T14:49:42.016493Z"
    }
   },
   "outputs": [],
   "source": [
    "with open(path_config, 'r') as conf_stream:\n",
    "    try:\n",
    "        config_data = yaml.safe_load(conf_stream)\n",
    "    except yaml.YAMLError as exc:\n",
    "        print(exc)"
   ]
  },
  {
   "cell_type": "code",
   "execution_count": 4,
   "metadata": {
    "ExecuteTime": {
     "end_time": "2020-07-03T14:49:48.250465Z",
     "start_time": "2020-07-03T14:49:48.238479Z"
    }
   },
   "outputs": [
    {
     "data": {
      "text/plain": [
       "{'templateVersion': '2.1-beta2',\n",
       " 'className': 'test_danceability',\n",
       " 'datasetsDirectory': '/data/train_results_danceability/datasets',\n",
       " 'resultsDirectory': '/data/train_results_danceability/results',\n",
       " 'filelist': '/data/datasets/danceability/metadata/filelist_sig.yaml',\n",
       " 'groundtruth': '/data/datasets/danceability/metadata/modified_groundtruth.yaml',\n",
       " 'seed': 1593182276.72,\n",
       " 'clusterMode': True,\n",
       " 'excludedDescriptors': ['metadata.tags*'],\n",
       " 'failOnUnmatched': False,\n",
       " 'preprocessing': {'raw': [],\n",
       "  'basic': [{'transfo': 'remove',\n",
       "    'params': {'descriptorNames': ['metadata.*',\n",
       "      '*dmean*',\n",
       "      '*dvar*',\n",
       "      '*.min',\n",
       "      '*.max',\n",
       "      '*cov',\n",
       "      'tonal.thpcp',\n",
       "      'lowlevel.spectral_energyband_high.*',\n",
       "      'lowlevel.silence_rate*']}},\n",
       "   {'transfo': 'enumerate',\n",
       "    'params': {'descriptorNames': ['tonal.chords_key',\n",
       "      'tonal.chords_scale',\n",
       "      'tonal.key_key',\n",
       "      'tonal.key_scale']}}],\n",
       "  'lowlevel': [{'transfo': 'remove',\n",
       "    'params': {'descriptorNames': ['metadata.*',\n",
       "      '*dmean*',\n",
       "      '*dvar*',\n",
       "      '*.min',\n",
       "      '*.max',\n",
       "      '*cov',\n",
       "      'tonal.thpcp',\n",
       "      'lowlevel.spectral_energyband_high.*',\n",
       "      'lowlevel.silence_rate*']}},\n",
       "   {'transfo': 'enumerate',\n",
       "    'params': {'descriptorNames': ['tonal.chords_key',\n",
       "      'tonal.chords_scale',\n",
       "      'tonal.key_key',\n",
       "      'tonal.key_scale']}},\n",
       "   {'transfo': 'select', 'params': {'descriptorNames': 'lowlevel*'}}],\n",
       "  'nobands': [{'transfo': 'remove',\n",
       "    'params': {'descriptorNames': ['metadata.*',\n",
       "      '*dmean*',\n",
       "      '*dvar*',\n",
       "      '*.min',\n",
       "      '*.max',\n",
       "      '*cov',\n",
       "      'tonal.thpcp',\n",
       "      'lowlevel.spectral_energyband_high.*',\n",
       "      'lowlevel.silence_rate*']}},\n",
       "   {'transfo': 'enumerate',\n",
       "    'params': {'descriptorNames': ['tonal.chords_key',\n",
       "      'tonal.chords_scale',\n",
       "      'tonal.key_key',\n",
       "      'tonal.key_scale']}},\n",
       "   {'transfo': 'remove',\n",
       "    'params': {'descriptorNames': ['barkbands*',\n",
       "      '*energyband*',\n",
       "      'melbands*',\n",
       "      'erbbands*']}}],\n",
       "  'normalized': [{'transfo': 'remove',\n",
       "    'params': {'descriptorNames': ['metadata.*',\n",
       "      '*dmean*',\n",
       "      '*dvar*',\n",
       "      '*.min',\n",
       "      '*.max',\n",
       "      '*cov',\n",
       "      'tonal.thpcp',\n",
       "      'lowlevel.spectral_energyband_high.*',\n",
       "      'lowlevel.silence_rate*']}},\n",
       "   {'transfo': 'enumerate',\n",
       "    'params': {'descriptorNames': ['tonal.chords_key',\n",
       "      'tonal.chords_scale',\n",
       "      'tonal.key_key',\n",
       "      'tonal.key_scale']}},\n",
       "   {'transfo': 'normalize'}],\n",
       "  'gaussianized': [{'transfo': 'remove',\n",
       "    'params': {'descriptorNames': ['metadata.*',\n",
       "      '*dmean*',\n",
       "      '*dvar*',\n",
       "      '*.min',\n",
       "      '*.max',\n",
       "      '*cov',\n",
       "      'tonal.thpcp',\n",
       "      'lowlevel.spectral_energyband_high.*',\n",
       "      'lowlevel.silence_rate*']}},\n",
       "   {'transfo': 'enumerate',\n",
       "    'params': {'descriptorNames': ['tonal.chords_key',\n",
       "      'tonal.chords_scale',\n",
       "      'tonal.key_key',\n",
       "      'tonal.key_scale']}},\n",
       "   {'transfo': 'normalize'},\n",
       "   {'transfo': 'gaussianize', 'params': {'descriptorNames': 'lowlevel.*'}}],\n",
       "  'mfcc': [{'transfo': 'remove',\n",
       "    'params': {'descriptorNames': ['metadata.*',\n",
       "      '*dmean*',\n",
       "      '*dvar*',\n",
       "      '*.min',\n",
       "      '*.max',\n",
       "      '*cov',\n",
       "      'tonal.thpcp',\n",
       "      'lowlevel.spectral_energyband_high.*',\n",
       "      'lowlevel.silence_rate*']}},\n",
       "   {'transfo': 'enumerate',\n",
       "    'params': {'descriptorNames': ['tonal.chords_key',\n",
       "      'tonal.chords_scale',\n",
       "      'tonal.key_key',\n",
       "      'tonal.key_scale']}},\n",
       "   {'transfo': 'select', 'params': {'descriptorNames': 'lowlevel.mfcc*'}}]},\n",
       " 'classifiers': {'svm': [{'preprocessing': ['basic',\n",
       "     'lowlevel',\n",
       "     'nobands',\n",
       "     'normalized',\n",
       "     'gaussianized',\n",
       "     'mfcc'],\n",
       "    'type': ['C-SVC'],\n",
       "    'kernel': ['poly', 'RBF'],\n",
       "    'C': [-5, -3, -1, 1, 3, 5, 7, 9, 11],\n",
       "    'gamma': [3, 1, -1, -3, -5, -7, -9, -11],\n",
       "    'balanceClasses': [False, True]}]},\n",
       " 'evaluations': {'nfoldcrossvalidation': [{'nfold': [5]}]}}"
      ]
     },
     "execution_count": 4,
     "metadata": {},
     "output_type": "execute_result"
    }
   ],
   "source": [
    "config_data"
   ]
  },
  {
   "cell_type": "code",
   "execution_count": null,
   "metadata": {},
   "outputs": [],
   "source": []
  }
 ],
 "metadata": {
  "kernelspec": {
   "display_name": "Python 3",
   "language": "python",
   "name": "python3"
  },
  "language_info": {
   "codemirror_mode": {
    "name": "ipython",
    "version": 3
   },
   "file_extension": ".py",
   "mimetype": "text/x-python",
   "name": "python",
   "nbconvert_exporter": "python",
   "pygments_lexer": "ipython3",
   "version": "3.7.6"
  },
  "toc": {
   "base_numbering": 1,
   "nav_menu": {},
   "number_sections": true,
   "sideBar": true,
   "skip_h1_title": false,
   "title_cell": "Table of Contents",
   "title_sidebar": "Contents",
   "toc_cell": false,
   "toc_position": {},
   "toc_section_display": true,
   "toc_window_display": false
  }
 },
 "nbformat": 4,
 "nbformat_minor": 4
}
